{
 "cells": [
  {
   "cell_type": "code",
   "execution_count": null,
   "metadata": {
    "id": "JUub2_2YOT8-"
   },
   "outputs": [],
   "source": [
    "import matplotlib.pyplot as plt\n",
    "import seaborn as sns\n",
    "import pandas as pd\n",
    "import numpy as np\n",
    "\n",
    "try:\n",
    "  import google.colab\n",
    "  IN_COLAB = True\n",
    "  from google.colab.data_table import DataTable\n",
    "  DataTable.max_columns = 102\n",
    "except:\n",
    "  IN_COLAB = False"
   ]
  },
  {
   "attachments": {},
   "cell_type": "markdown",
   "metadata": {
    "id": "rrwE2jm3OkY9"
   },
   "source": [
    "# Data Cleaning"
   ]
  },
  {
   "cell_type": "code",
   "execution_count": null,
   "metadata": {
    "id": "NT5bnuaVOnoi"
   },
   "outputs": [],
   "source": [
    "df = pd.read_csv(\"Harbor_Water_Quality.csv\", low_memory=False)"
   ]
  },
  {
   "cell_type": "code",
   "execution_count": null,
   "metadata": {
    "colab": {
     "base_uri": "https://localhost:8080/",
     "height": 490
    },
    "id": "8S_wSO3UPv6p",
    "outputId": "712678b7-a957-426a-eaf5-f579ff53e4e2"
   },
   "outputs": [],
   "source": [
    "df.head()"
   ]
  },
  {
   "cell_type": "code",
   "execution_count": null,
   "metadata": {
    "id": "63C2j2OCP0i_"
   },
   "outputs": [],
   "source": [
    "# Drop duplicate samples\n",
    "df[\"Duplicate Sample\"] = df[\"Duplicate Sample\"].replace(np.NaN, False)\n",
    "df[\"Duplicate Sample\"] = df[\"Duplicate Sample\"].replace('D', True)\n",
    "df = df.drop(list(df[(df[\"Duplicate Sample\"] == True)].index))"
   ]
  },
  {
   "cell_type": "code",
   "execution_count": null,
   "metadata": {
    "id": "aapn78k5Q88s"
   },
   "outputs": [],
   "source": [
    "# Collect basic water quality metrics\n",
    "df = pd.DataFrame({\n",
    "    \"Sampling Location\": df[\"Sampling Location\"],\n",
    "    \"Sample Date\": df[\"Sample Date\"],\n",
    "    \"Season\": np.NaN, # Integers Winter = 1, Spring = 2 ... \n",
    "    \"Top Sample Temperature\": df[\"Top Sample Temperature\"],\n",
    "    \"Bottom Sample Temperature\": df[\"Bottom Sample Temperature\"],\n",
    "    \"Top Salinity\": df[\"Top Salinity(psu)\"],\n",
    "    \"Bottom Salinity\": df[\"Bottom Salinity(psu)\"],\n",
    "    \"Top PH\": df[\"Top PH\"],\n",
    "    \"Bottom PH\": df[\"Bottom PH\"],\n",
    "    \"Long\": df[\"Long\"],\n",
    "    \"Lat\": df[\"Lat\"],\n",
    "})"
   ]
  },
  {
   "cell_type": "code",
   "execution_count": null,
   "metadata": {
    "colab": {
     "base_uri": "https://localhost:8080/",
     "height": 206
    },
    "id": "35h6r7LbRBUT",
    "outputId": "f8953e69-37ce-403b-aacd-3194d9fe6d6b"
   },
   "outputs": [],
   "source": [
    "df.head()"
   ]
  },
  {
   "cell_type": "code",
   "execution_count": null,
   "metadata": {
    "id": "-09kxh2vTYaQ"
   },
   "outputs": [],
   "source": [
    "def filter_floats(value):\n",
    "  # Some numeric data points are corrupted, lets remove them.\n",
    "  try:\n",
    "    return float(value)\n",
    "  except ValueError:\n",
    "    return np.NaN"
   ]
  },
  {
   "cell_type": "code",
   "execution_count": null,
   "metadata": {
    "id": "ALdbcIuaTpA9"
   },
   "outputs": [],
   "source": [
    "df[\"Top PH\"] = df[\"Top PH\"].apply(lambda value: filter_floats(value))\n",
    "df[\"Bottom PH\"] = df[\"Bottom PH\"].apply(lambda value: filter_floats(value))\n",
    "df[\"Top Sample Temperature\"] = df[\"Top Sample Temperature\"].apply(lambda value: filter_floats(value))\n",
    "df[\"Bottom Sample Temperature\"] = df[\"Bottom Sample Temperature\"].apply(lambda value: filter_floats(value))\n",
    "df[\"Top Salinity\"] = df[\"Top Salinity\"].apply(lambda value: filter_floats(value))\n",
    "df[\"Bottom Salinity\"] = df[\"Bottom Salinity\"].apply(lambda value: filter_floats(value))\n",
    "df[\"Long\"] = df[\"Long\"].apply(lambda value: filter_floats(value))\n",
    "df[\"Lat\"] = df[\"Lat\"].apply(lambda value: filter_floats(value))"
   ]
  },
  {
   "cell_type": "code",
   "execution_count": null,
   "metadata": {
    "id": "KL4MWdq3SNHS"
   },
   "outputs": [],
   "source": [
    "df[\"Sample Date\"] = df[\"Sample Date\"].apply(lambda date: pd.to_datetime(date))"
   ]
  },
  {
   "attachments": {},
   "cell_type": "markdown",
   "metadata": {
    "id": "UNgsTynISFV8"
   },
   "source": [
    "# Adding Features"
   ]
  },
  {
   "cell_type": "code",
   "execution_count": null,
   "metadata": {
    "id": "cfLR1K08SG6-"
   },
   "outputs": [],
   "source": [
    "def season(date):\n",
    "    if date.month == 12 or 1 <= date.month <= 2:\n",
    "        return 1 # \"Winter\"\n",
    "    if 3 <= date.month <= 5:\n",
    "        return 2 # \"Spring\"\n",
    "    if 6 <= date.month <= 8:\n",
    "        return 3 # \"Summer\"\n",
    "    if 9 <= date.month < 12:\n",
    "        return 4 # \"Fall\""
   ]
  },
  {
   "cell_type": "code",
   "execution_count": null,
   "metadata": {
    "id": "ZM24rz68SJhl"
   },
   "outputs": [],
   "source": [
    "df[\"Season\"] = [season(date) for date in df[\"Sample Date\"]]"
   ]
  },
  {
   "cell_type": "code",
   "execution_count": null,
   "metadata": {
    "id": "Lurv8ElvSbQZ"
   },
   "outputs": [],
   "source": [
    "df = df.sort_values(\"Sample Date\")"
   ]
  },
  {
   "cell_type": "code",
   "execution_count": null,
   "metadata": {
    "colab": {
     "base_uri": "https://localhost:8080/",
     "height": 206
    },
    "id": "BOsFmuS7Sk6J",
    "outputId": "bdb05287-d742-4865-f9ba-28967a5a82a6"
   },
   "outputs": [],
   "source": [
    "df.head()"
   ]
  },
  {
   "attachments": {},
   "cell_type": "markdown",
   "metadata": {
    "id": "9uIPAtfSXc1b"
   },
   "source": [
    "# Exploration & Sampling"
   ]
  },
  {
   "cell_type": "code",
   "execution_count": null,
   "metadata": {
    "id": "rExd1AYWS4bA"
   },
   "outputs": [],
   "source": [
    "wq_data = df[[\"Sample Date\", \"Bottom PH\", \"Bottom Sample Temperature\", \"Bottom Salinity\"]]"
   ]
  },
  {
   "cell_type": "code",
   "execution_count": null,
   "metadata": {
    "colab": {
     "base_uri": "https://localhost:8080/",
     "height": 206
    },
    "id": "SwuyBLEQVKvQ",
    "outputId": "c8e7e1da-e178-4d52-97be-fe210a3f1cc3"
   },
   "outputs": [],
   "source": [
    "univariate_ph = wq_data[[\"Sample Date\", \"Bottom PH\"]].dropna().sort_values(by=\"Sample Date\")\n",
    "univariate_ph.head()"
   ]
  },
  {
   "cell_type": "code",
   "execution_count": null,
   "metadata": {
    "colab": {
     "base_uri": "https://localhost:8080/"
    },
    "id": "u857y1IjWtzN",
    "outputId": "c4183732-c59b-4dcf-cf7a-59dc001e268b"
   },
   "outputs": [],
   "source": [
    "univariate_ph.info()"
   ]
  },
  {
   "cell_type": "code",
   "execution_count": null,
   "metadata": {},
   "outputs": [],
   "source": [
    "ten_year_avg = wq_data[[\"Sample Date\", \"Bottom PH\"]].dropna().sort_values(by=\"Sample Date\")\n",
    "ten_year_avg[(ten_year_avg[\"Sample Date\"] > \"2012-1-1\")][\"Bottom PH\"].mean()"
   ]
  },
  {
   "cell_type": "code",
   "execution_count": null,
   "metadata": {
    "colab": {
     "base_uri": "https://localhost:8080/",
     "height": 472
    },
    "id": "pUUaki0MVhhz",
    "outputId": "90f494b6-7353-473c-fecd-3bbd55178bed"
   },
   "outputs": [],
   "source": [
    "fig, ax = plt.subplots()\n",
    "sns.scatterplot(data=univariate_ph, x=\"Sample Date\", y=\"Bottom PH\", s=5)\n",
    "plt.ylim(6, 9)\n",
    "plt.ylabel(\"pH\")"
   ]
  },
  {
   "cell_type": "code",
   "execution_count": null,
   "metadata": {
    "id": "RvR4SHQUIqUM"
   },
   "outputs": [],
   "source": [
    "seasons = df[[\"Sample Date\", \"Season\", \"Bottom PH\"]].dropna().sort_values(by=\"Sample Date\")\n",
    "seasons[\"Sample Date\"] = seasons[\"Sample Date\"].apply(lambda date: pd.to_datetime(date))\n",
    "seasons[\"Sample Date\"] = seasons[\"Sample Date\"].apply(lambda date: date.year)"
   ]
  },
  {
   "cell_type": "code",
   "execution_count": null,
   "metadata": {
    "id": "ONrl4_pLH_3x"
   },
   "outputs": [],
   "source": [
    "winter = seasons[(seasons[\"Season\"] == 1)]\n",
    "spring = seasons[(seasons[\"Season\"] == 2)]\n",
    "summer = seasons[(seasons[\"Season\"] == 3)]\n",
    "fall = seasons[(seasons[\"Season\"] == 4)]"
   ]
  },
  {
   "cell_type": "code",
   "execution_count": null,
   "metadata": {
    "colab": {
     "base_uri": "https://localhost:8080/",
     "height": 493
    },
    "id": "w8sPwxISH_8k",
    "outputId": "89a013ea-5ce1-454e-db91-517a2dbc7412"
   },
   "outputs": [],
   "source": [
    "fig, ax = plt.subplots()\n",
    "sns.boxplot(data=winter, x=\"Sample Date\", y=\"Bottom PH\", color='skyblue')\n",
    "plt.title(\"Winter\")\n",
    "plt.ylim(6, 9)\n",
    "plt.xticks(rotation=90);"
   ]
  },
  {
   "cell_type": "code",
   "execution_count": null,
   "metadata": {
    "colab": {
     "base_uri": "https://localhost:8080/",
     "height": 493
    },
    "id": "gKl36fc9H__P",
    "outputId": "7ce6f9f5-1fcc-4726-8afc-990f5952b35e"
   },
   "outputs": [],
   "source": [
    "fig, ax = plt.subplots()\n",
    "sns.boxplot(data=spring, x=\"Sample Date\", y=\"Bottom PH\", color='lightgreen')\n",
    "plt.title(\"Spring\")\n",
    "plt.ylim(6, 9)\n",
    "plt.xticks(rotation=90);"
   ]
  },
  {
   "cell_type": "code",
   "execution_count": null,
   "metadata": {
    "colab": {
     "base_uri": "https://localhost:8080/",
     "height": 493
    },
    "id": "XxoL11DtIAE7",
    "outputId": "95a23f16-f03e-464e-e1f5-1aa4048085f5"
   },
   "outputs": [],
   "source": [
    "fig, ax = plt.subplots()\n",
    "sns.boxplot(data=summer, x=\"Sample Date\", y=\"Bottom PH\", color='gold')\n",
    "plt.title(\"Summer\")\n",
    "plt.ylim(6, 9)\n",
    "plt.xticks(rotation=90);"
   ]
  },
  {
   "cell_type": "code",
   "execution_count": null,
   "metadata": {},
   "outputs": [],
   "source": [
    "reproduction_seasons = pd.concat([spring, summer])\n",
    "reproduction_seasons[(reproduction_seasons[\"Sample Date\"] > 2010)][\"Bottom PH\"].mean()"
   ]
  },
  {
   "cell_type": "code",
   "execution_count": null,
   "metadata": {
    "colab": {
     "base_uri": "https://localhost:8080/",
     "height": 493
    },
    "id": "3K03q_KEjw2s",
    "outputId": "376568f7-900f-43d3-be40-a1217d12c071"
   },
   "outputs": [],
   "source": [
    "fig, ax = plt.subplots()\n",
    "sns.boxplot(data=fall, x=\"Sample Date\", y=\"Bottom PH\", color='orange')\n",
    "plt.title(\"Fall\")\n",
    "plt.ylim(6, 9)\n",
    "plt.xticks(rotation=90);"
   ]
  },
  {
   "attachments": {},
   "cell_type": "markdown",
   "metadata": {
    "id": "HOwwITnZYaAo"
   },
   "source": [
    "# Time Series Forecasting with Prophet"
   ]
  },
  {
   "cell_type": "code",
   "execution_count": null,
   "metadata": {
    "id": "1eKMKhDlYOZQ"
   },
   "outputs": [],
   "source": [
    "from prophet import Prophet\n",
    "from sklearn.metrics import mean_squared_error, mean_absolute_error"
   ]
  },
  {
   "cell_type": "code",
   "execution_count": null,
   "metadata": {
    "colab": {
     "base_uri": "https://localhost:8080/",
     "height": 487
    },
    "id": "CodY5YtE0JpL",
    "outputId": "88437001-8cfa-49d2-c83b-f9f22e22aa68"
   },
   "outputs": [],
   "source": [
    "fig, ax = plt.subplots(figsize=(10, 5))\n",
    "sns.scatterplot(data=univariate_ph, x=\"Sample Date\", y=\"Bottom PH\", s=10)\n",
    "plt.ylim(6, 9)\n",
    "plt.ylabel(\"pH\")"
   ]
  },
  {
   "cell_type": "code",
   "execution_count": null,
   "metadata": {
    "id": "sBX-WBN4ZaEE"
   },
   "outputs": [],
   "source": [
    "univariate_ph = univariate_ph.rename(\n",
    "    columns={\n",
    "        \"Sample Date\": \"ds\",\n",
    "        \"Bottom PH\": \"y\"\n",
    "    }\n",
    ")"
   ]
  },
  {
   "cell_type": "code",
   "execution_count": null,
   "metadata": {
    "id": "JxlN7Vx9bzhB"
   },
   "outputs": [],
   "source": [
    "# Group all sample dates to their median pH\n",
    "univariate_ph = univariate_ph.groupby(['ds'], as_index=False).median()"
   ]
  },
  {
   "cell_type": "code",
   "execution_count": null,
   "metadata": {
    "colab": {
     "base_uri": "https://localhost:8080/",
     "height": 424
    },
    "id": "eKVlcq6Icp3r",
    "outputId": "490863e3-da6b-4a35-aa50-c15317493234"
   },
   "outputs": [],
   "source": [
    "univariate_ph"
   ]
  },
  {
   "cell_type": "code",
   "execution_count": null,
   "metadata": {
    "colab": {
     "base_uri": "https://localhost:8080/",
     "height": 472
    },
    "id": "EgEZr_GAY1YB",
    "outputId": "bd2dc6f5-88b7-4d14-bbc6-e584da313ded"
   },
   "outputs": [],
   "source": [
    "sns.scatterplot(data=univariate_ph, x=\"ds\", y=\"y\", s=5)\n",
    "plt.ylim(6, 9)\n",
    "plt.xlabel(\"Date\")\n",
    "plt.ylabel(\"pH\")"
   ]
  },
  {
   "cell_type": "code",
   "execution_count": null,
   "metadata": {
    "id": "-_0NPGVFY7wY"
   },
   "outputs": [],
   "source": [
    "split = '2021-12-13'"
   ]
  },
  {
   "cell_type": "code",
   "execution_count": null,
   "metadata": {
    "id": "0SZbGw03Z3tB"
   },
   "outputs": [],
   "source": [
    "ph_train = univariate_ph[(univariate_ph[\"ds\"] <= split)]\n",
    "ph_test = univariate_ph[(univariate_ph[\"ds\"] >= split)]"
   ]
  },
  {
   "cell_type": "code",
   "execution_count": null,
   "metadata": {
    "id": "wxL1qqUSefs7"
   },
   "outputs": [],
   "source": [
    "model = Prophet()"
   ]
  },
  {
   "cell_type": "code",
   "execution_count": null,
   "metadata": {
    "colab": {
     "base_uri": "https://localhost:8080/"
    },
    "id": "90rSSJNMe-WQ",
    "outputId": "cc93959b-c4ec-4a03-c1d5-3e18c2783877"
   },
   "outputs": [],
   "source": [
    "model.fit(ph_train)"
   ]
  },
  {
   "cell_type": "code",
   "execution_count": null,
   "metadata": {
    "id": "43WNDEggoGP8"
   },
   "outputs": [],
   "source": [
    "forecast_horizon = 3650"
   ]
  },
  {
   "cell_type": "code",
   "execution_count": null,
   "metadata": {
    "colab": {
     "base_uri": "https://localhost:8080/",
     "height": 206
    },
    "id": "vAAApvl3fP-Y",
    "outputId": "8f8ce3ab-1342-4b2f-d89c-50d71325a191"
   },
   "outputs": [],
   "source": [
    "future = model.make_future_dataframe(periods=forecast_horizon)\n",
    "future.tail()"
   ]
  },
  {
   "cell_type": "code",
   "execution_count": null,
   "metadata": {
    "colab": {
     "base_uri": "https://localhost:8080/",
     "height": 206
    },
    "id": "_K7tcUYKfip7",
    "outputId": "1a1d8421-3665-4d71-fde2-fb687ed6852e"
   },
   "outputs": [],
   "source": [
    "forecast = model.predict(future)\n",
    "forecast[['ds', 'yhat', 'yhat_lower', 'yhat_upper']].tail()"
   ]
  },
  {
   "cell_type": "code",
   "execution_count": null,
   "metadata": {
    "colab": {
     "base_uri": "https://localhost:8080/",
     "height": 529
    },
    "id": "xT3LpMvdfmwh",
    "outputId": "52a8c985-c5ec-4a05-deb2-f0fe4eed6877"
   },
   "outputs": [],
   "source": [
    "fig, ax = plt.subplots(figsize=(8, 5))\n",
    "fig = model.plot(forecast, ax=ax)\n",
    "plt.ylim(6, 9)\n",
    "plt.xlabel(\"Year\")\n",
    "plt.ylabel(\"pH\")\n",
    "ax.set_title('10 Year Time Series Forecast using Prophet')\n",
    "plt.show()"
   ]
  },
  {
   "cell_type": "code",
   "execution_count": null,
   "metadata": {},
   "outputs": [],
   "source": [
    "from prophet.plot import plot_plotly, plot_components_plotly\n",
    "\n",
    "plot_plotly(model, forecast)"
   ]
  },
  {
   "cell_type": "code",
   "execution_count": null,
   "metadata": {
    "colab": {
     "base_uri": "https://localhost:8080/",
     "height": 907
    },
    "id": "WjCZHqongZvQ",
    "outputId": "ed914162-0cdb-4903-84d2-d8297ff53f6e"
   },
   "outputs": [],
   "source": [
    "fig2 = model.plot_components(forecast)"
   ]
  },
  {
   "attachments": {},
   "cell_type": "markdown",
   "metadata": {
    "id": "qFtg_ifPjFn7"
   },
   "source": [
    "## Evaluation\n",
    "\n",
    "Information on how evaluation works: https://facebook.github.io/prophet/docs/diagnostics.html"
   ]
  },
  {
   "cell_type": "code",
   "execution_count": null,
   "metadata": {
    "id": "S-6bGr9So5pz"
   },
   "outputs": [],
   "source": [
    "import matplotlib.patches as mpatches"
   ]
  },
  {
   "cell_type": "code",
   "execution_count": null,
   "metadata": {
    "colab": {
     "base_uri": "https://localhost:8080/",
     "height": 539
    },
    "id": "5_o-NsSHhAQf",
    "outputId": "af63400d-e9a0-4df5-f34c-241883443ebf"
   },
   "outputs": [],
   "source": [
    "fig, ax = plt.subplots(figsize=(10, 5))\n",
    "sns.scatterplot(data=univariate_ph, x=\"ds\", y=\"y\", s=10)\n",
    "sns.scatterplot(data=forecast, x=\"ds\", y=\"yhat\", palette=\"deep\", alpha=0.5, s=10)\n",
    "\n",
    "real_patch = mpatches.Patch(color='blue', label='Actual Values')\n",
    "pred_patch = mpatches.Patch(color='orange', label='Predicted Values')\n",
    "plt.legend(handles=[real_patch, pred_patch])\n",
    "\n",
    "plt.ylim(6.5, 8.75)\n",
    "plt.xlabel(\"Date\")\n",
    "plt.ylabel(\"pH\")\n",
    "plt.title(\"10 Year Forecast Vs. Actual Samples of New York Harbor\", fontweight=\"bold\")"
   ]
  },
  {
   "cell_type": "code",
   "execution_count": null,
   "metadata": {
    "colab": {
     "base_uri": "https://localhost:8080/",
     "height": 567
    },
    "id": "jShK6krHtXtq",
    "outputId": "bfcb68df-5c4a-41f0-e3e0-ca8babae0ebc"
   },
   "outputs": [],
   "source": [
    "univariate_ph_focus = univariate_ph[(univariate_ph[\"ds\"] >= '2017-1-1') & (univariate_ph[\"ds\"] <= '2018-1-1')]\n",
    "forecast_focus = forecast[(forecast[\"ds\"] >= '2017-1-1') & (forecast[\"ds\"] <= '2018-1-1')]\n",
    "sns.scatterplot(data=univariate_ph_focus, x=\"ds\", y=\"y\", s=15)\n",
    "sns.scatterplot(data=forecast_focus, x=\"ds\", y=\"yhat\", palette=\"deep\", alpha=0.75, s=15)\n",
    "plt.ylim(6, 9)\n",
    "plt.xlabel(\"Date\")\n",
    "plt.xticks(rotation=90)\n",
    "plt.ylabel(\"pH\")\n",
    "plt.title('2017-2028 Forecast vs. Actual Values')"
   ]
  },
  {
   "cell_type": "code",
   "execution_count": null,
   "metadata": {
    "id": "Fps5OWA0lITm"
   },
   "outputs": [],
   "source": [
    "from prophet.diagnostics import performance_metrics"
   ]
  },
  {
   "cell_type": "code",
   "execution_count": null,
   "metadata": {
    "id": "ESXxgslGp19g",
    "scrolled": true
   },
   "outputs": [],
   "source": [
    "from prophet.diagnostics import cross_validation\n",
    "df_cv = cross_validation(model, initial='730 days', period='180 days', horizon='3650 days')\n",
    "# df_cv = cross_validation(model, initial='730 days', period='120 days', horizon='120 days')"
   ]
  },
  {
   "cell_type": "code",
   "execution_count": null,
   "metadata": {
    "scrolled": true
   },
   "outputs": [],
   "source": [
    "df_cv"
   ]
  },
  {
   "cell_type": "code",
   "execution_count": null,
   "metadata": {},
   "outputs": [],
   "source": [
    "df_cv.to_csv(\"error-metrics.csv\")"
   ]
  },
  {
   "cell_type": "code",
   "execution_count": null,
   "metadata": {
    "id": "aId5jOnJpkw-"
   },
   "outputs": [],
   "source": [
    "df_p = performance_metrics(df_cv)"
   ]
  },
  {
   "cell_type": "code",
   "execution_count": null,
   "metadata": {
    "colab": {
     "base_uri": "https://localhost:8080/",
     "height": 424
    },
    "id": "M1A8VoBZqLq9",
    "outputId": "6ddab9af-1b66-498b-eb7d-d71df961ec21"
   },
   "outputs": [],
   "source": [
    "df_p = performance_metrics(df_cv)\n",
    "df_p"
   ]
  },
  {
   "cell_type": "code",
   "execution_count": null,
   "metadata": {},
   "outputs": [],
   "source": [
    "df_p[(df_p[\"horizon\"] < \"1826 days\")]"
   ]
  },
  {
   "attachments": {},
   "cell_type": "markdown",
   "metadata": {
    "id": "fVUYzxbS7JGp"
   },
   "source": [
    "Relevant metrics for forecasting models are:\n",
    "\n",
    "  **MSE**: The mean squared error (MSE) of an estimator (of a procedure for estimating an unobserved quantity) measures the average of the squares of the errors — that is, the average squared difference between the estimated values and what is estimated. MSE is a risk function, corresponding to the expected value of the squared error loss. The fact that MSE is almost always strictly positive (and not zero) is because of randomness or because the estimator does not account for information that could produce a more accurate estimate.\n",
    "\n",
    "  **RMSE**: The root-mean-squared error is the square root of the average squared difference between the target and predicted values. RMSE is more sensitive to outliers than MAE,so if you're concerned about large errors, then RMSE can be a more useful metric to evaluate. Similar to MAE, a smaller value indicates a higher quality model (0 represents a perfect predictor).\n",
    "\n",
    "  **MAE**: The mean absolute error (MAE) is the average absolute difference between the target values and the predicted values. This metric ranges from zero to infinity; a lower value indicates a higher quality model.\n",
    "\n",
    "  **MAPE**: Mean absolute percentage error (MAPE) is the average absolute percentage difference between the labels and the predicted values. This metric ranges between zero and infinity; a lower value indicates a higher quality model.\n",
    "  MAPE is not shown if the target column contains any 0 values. In this case, MAPE is undefined.\n",
    "  \n",
    "### Cross Validation\n",
    "\n",
    "In our cross validation model we initally start our training with 2 years of training data, set our cutoff point and forecast recursivly for the next 10 years (until 10 year forecasts can NOT be made from a set cutoff point because there is no data to compare to). Per forecast cycle we then set our cutoff point to the next 6 months from the prior cutoff point (180 days) and continue the cycle."
   ]
  },
  {
   "attachments": {},
   "cell_type": "markdown",
   "metadata": {
    "id": "qH0CjZTkukL7"
   },
   "source": [
    "# GeoSpatial Visualization\n",
    "\n",
    "This dataset contains all measurements with coordinate values. This dataset ranges from 1986-2021\n",
    "\n",
    "A few years contain missing data:\n",
    "\n",
    "2000-2004\n",
    "\n",
    "2014-2015\n"
   ]
  },
  {
   "cell_type": "code",
   "execution_count": null,
   "metadata": {
    "id": "XOSKy6sDz5KW"
   },
   "outputs": [],
   "source": [
    "import plotly.express as px\n",
    "import plotly.graph_objects as go"
   ]
  },
  {
   "cell_type": "code",
   "execution_count": null,
   "metadata": {
    "id": "auU2G8L-32fs"
   },
   "outputs": [],
   "source": [
    "geo_default = df[[\"Sample Date\", \"Bottom PH\", \"Long\", \"Lat\"]].dropna()"
   ]
  },
  {
   "attachments": {},
   "cell_type": "markdown",
   "metadata": {
    "id": "VhzAWoKcERjH"
   },
   "source": [
    "Some Longditude and Latitude Values are swapped."
   ]
  },
  {
   "cell_type": "code",
   "execution_count": null,
   "metadata": {
    "colab": {
     "base_uri": "https://localhost:8080/",
     "height": 424
    },
    "id": "x8lK0w3lEAeg",
    "outputId": "45ee43d3-e7b5-48b7-9093-629dbdfd00fb"
   },
   "outputs": [],
   "source": [
    "idx = (df['Lat'] < 40)\n",
    "\n",
    "# This should catch the majority of cases of where the lat and long are swapped.\n",
    "geo_default.loc[idx,['Long','Lat']] = geo_default.loc[idx,['Lat','Long']].values\n",
    "geo_default"
   ]
  },
  {
   "attachments": {},
   "cell_type": "markdown",
   "metadata": {
    "id": "T9G7BMPk48dW"
   },
   "source": [
    "## Visual"
   ]
  },
  {
   "cell_type": "code",
   "execution_count": null,
   "metadata": {},
   "outputs": [],
   "source": [
    "from ipywidgets import interact, interactive, fixed, interact_manual\n",
    "import ipywidgets as widgets"
   ]
  },
  {
   "cell_type": "code",
   "execution_count": null,
   "metadata": {
    "scrolled": false
   },
   "outputs": [],
   "source": [
    "def f(year):\n",
    "    import warnings\n",
    "    warnings.filterwarnings('ignore')\n",
    "    \n",
    "    geo_year_select = geo_default[(geo_default[\"Sample Date\"] >= f'{year}-1-1') & (geo_default[\"Sample Date\"] <= f'{year+1}-1-1')]\n",
    "    # Random coordinate variability for Sites to see all samples on map\n",
    "    variability = 0.005\n",
    "    geo_year_select[\"Long\"] = geo_year_select[\"Long\"].apply(lambda long: long + np.random.uniform(0, variability));\n",
    "    geo_year_select[\"Lat\"] = geo_year_select[\"Lat\"].apply(lambda long: long + np.random.uniform(0, variability));\n",
    "    \n",
    "    fig = px.scatter_mapbox(geo_year_select, \n",
    "                            lat=\"Lat\", \n",
    "                            lon=\"Long\",\n",
    "                            color=\"Bottom PH\",\n",
    "                            range_color=[5.5,9],\n",
    "                            color_continuous_scale=px.colors.sequential.Hot,\n",
    "                            zoom=9, \n",
    "                            center={\"lat\": 40.6928, \"lon\": -74.0120}\n",
    "                            )\n",
    "    fig.update_layout(mapbox_style=\"carto-positron\")\n",
    "    fig.update_layout(margin={\"r\":0,\"t\":0,\"l\":0,\"b\":0})\n",
    "    fig.update_layout(\n",
    "        title_x=0.6,\n",
    "        title_y=0.05,\n",
    "    )\n",
    "    fig.show()\n",
    "    #return geo_year_select\n",
    "\n",
    "interact(f, year=widgets.IntSlider(min=2005, max=2021, step=1, value=2005));"
   ]
  }
 ],
 "metadata": {
  "colab": {
   "provenance": []
  },
  "kernelspec": {
   "display_name": "Python 3 (ipykernel)",
   "language": "python",
   "name": "python3"
  },
  "language_info": {
   "codemirror_mode": {
    "name": "ipython",
    "version": 3
   },
   "file_extension": ".py",
   "mimetype": "text/x-python",
   "name": "python",
   "nbconvert_exporter": "python",
   "pygments_lexer": "ipython3",
   "version": "3.11.3"
  }
 },
 "nbformat": 4,
 "nbformat_minor": 1
}
